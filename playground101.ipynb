{
 "cells": [
  {
   "cell_type": "markdown",
   "metadata": {},
   "source": [
    "# The Get Rich Quickly Project\n",
    "\n",
    "In the following I try to get familiarized with the financial markets libraries for python"
   ]
  },
  {
   "cell_type": "code",
   "execution_count": 3,
   "metadata": {},
   "outputs": [],
   "source": [
    "import pandas as pd\n",
    "import datetime\n",
    "import mplfinance as mpf\n",
    "import yfinance as yf"
   ]
  },
  {
   "cell_type": "markdown",
   "metadata": {},
   "source": [
    "### loading the tesla stock prices"
   ]
  },
  {
   "cell_type": "code",
   "execution_count": 4,
   "metadata": {},
   "outputs": [
    {
     "name": "stdout",
     "output_type": "stream",
     "text": [
      "market price  284.82\n",
      "previous close price  288.09\n"
     ]
    }
   ],
   "source": [
    "stock_info = yf.Ticker('TSLA').info\n",
    "# stock_info.keys() for other properties you can explore\n",
    "market_price = stock_info['regularMarketPrice']\n",
    "previous_close_price = stock_info['regularMarketPreviousClose']\n",
    "print('market price ', market_price)\n",
    "print('previous close price ', previous_close_price)\n"
   ]
  },
  {
   "cell_type": "code",
   "execution_count": 7,
   "metadata": {},
   "outputs": [
    {
     "data": {
      "text/plain": [
       "{'zip': '78725',\n",
       " 'sector': 'Consumer Cyclical',\n",
       " 'fullTimeEmployees': 99290,\n",
       " 'longBusinessSummary': 'Tesla, Inc. designs, develops, manufactures, leases, and sells electric vehicles, and energy generation and storage systems in the United States, China, and internationally. The company operates in two segments, Automotive, and Energy Generation and Storage. The Automotive segment offers electric vehicles, as well as sells automotive regulatory credits. It provides sedans and sport utility vehicles through direct and used vehicle sales, a network of Tesla Superchargers, and in-app upgrades; and purchase financing and leasing services. This segment is also involved in the provision of non-warranty after-sales vehicle services, sale of used vehicles, retail merchandise, and vehicle insurance, as well as sale of products to third party customers; services for electric vehicles through its company-owned service locations, and Tesla mobile service technicians; and vehicle limited warranties and extended service plans. The Energy Generation and Storage segment engages in the design, manufacture, installation, sale, and leasing of solar energy generation and energy storage products, and related services to residential, commercial, and industrial customers and utilities through its website, stores, and galleries, as well as through a network of channel partners. This segment also offers service and repairs to its energy product customers, including under warranty; and various financing options to its solar customers. The company was formerly known as Tesla Motors, Inc. and changed its name to Tesla, Inc. in February 2017. Tesla, Inc. was incorporated in 2003 and is headquartered in Austin, Texas.',\n",
       " 'city': 'Austin',\n",
       " 'phone': '(512) 516-8177',\n",
       " 'state': 'TX',\n",
       " 'country': 'United States',\n",
       " 'companyOfficers': [],\n",
       " 'website': 'https://www.tesla.com',\n",
       " 'maxAge': 1,\n",
       " 'address1': '13101 Tesla Road',\n",
       " 'industry': 'Auto Manufacturers',\n",
       " 'ebitdaMargins': 0.20889,\n",
       " 'profitMargins': 0.14168,\n",
       " 'grossMargins': 0.27099,\n",
       " 'operatingCashflow': 14078000128,\n",
       " 'revenueGrowth': 0.416,\n",
       " 'operatingMargins': 0.16139,\n",
       " 'ebitda': 14030000128,\n",
       " 'targetLowPrice': 24.33,\n",
       " 'recommendationKey': 'buy',\n",
       " 'grossProfits': 13606000000,\n",
       " 'freeCashflow': 5962749952,\n",
       " 'targetMedianPrice': 325,\n",
       " 'currentPrice': 284.82,\n",
       " 'earningsGrowth': 0.907,\n",
       " 'currentRatio': 1.431,\n",
       " 'returnOnAssets': 0.10957,\n",
       " 'numberOfAnalystOpinions': 38,\n",
       " 'targetMeanPrice': 296.63,\n",
       " 'debtToEquity': 17.699,\n",
       " 'returnOnEquity': 0.2989,\n",
       " 'targetHighPrice': 433.33,\n",
       " 'totalCash': 18915000320,\n",
       " 'totalDebt': 6664999936,\n",
       " 'totalRevenue': 67165999104,\n",
       " 'totalCashPerShare': 6.036,\n",
       " 'financialCurrency': 'USD',\n",
       " 'revenuePerShare': 21.928,\n",
       " 'quickRatio': 0.968,\n",
       " 'recommendationMean': 2.3,\n",
       " 'exchange': 'NMS',\n",
       " 'shortName': 'Tesla, Inc.',\n",
       " 'longName': 'Tesla, Inc.',\n",
       " 'exchangeTimezoneName': 'America/New_York',\n",
       " 'exchangeTimezoneShortName': 'EDT',\n",
       " 'isEsgPopulated': False,\n",
       " 'gmtOffSetMilliseconds': '-14400000',\n",
       " 'quoteType': 'EQUITY',\n",
       " 'symbol': 'TSLA',\n",
       " 'messageBoardId': 'finmb_27444752',\n",
       " 'market': 'us_market',\n",
       " 'annualHoldingsTurnover': None,\n",
       " 'enterpriseToRevenue': 13.277,\n",
       " 'beta3Year': None,\n",
       " 'enterpriseToEbitda': 63.56,\n",
       " '52WeekChange': 0.18245745,\n",
       " 'morningStarRiskRating': None,\n",
       " 'forwardEps': 15.93,\n",
       " 'revenueQuarterlyGrowth': None,\n",
       " 'sharesOutstanding': 3133469952,\n",
       " 'fundInceptionDate': None,\n",
       " 'annualReportExpenseRatio': None,\n",
       " 'totalAssets': None,\n",
       " 'bookValue': 11.648,\n",
       " 'sharesShort': 60328890,\n",
       " 'sharesPercentSharesOut': 0.019299999,\n",
       " 'fundFamily': None,\n",
       " 'lastFiscalYearEnd': 1640908800,\n",
       " 'heldPercentInstitutions': 0.44421002,\n",
       " 'netIncomeToCommon': 9521000448,\n",
       " 'trailingEps': 2.7,\n",
       " 'lastDividendValue': None,\n",
       " 'SandP52WeekChange': -0.10403001,\n",
       " 'priceToBook': 24.452267,\n",
       " 'heldPercentInsiders': 0.16433,\n",
       " 'nextFiscalYearEnd': 1703980800,\n",
       " 'yield': None,\n",
       " 'mostRecentQuarter': 1656547200,\n",
       " 'shortRatio': 0.68,\n",
       " 'sharesShortPreviousMonthDate': 1657843200,\n",
       " 'floatShares': 2619392949,\n",
       " 'beta': 2.176087,\n",
       " 'enterpriseValue': 891753398272,\n",
       " 'priceHint': 2,\n",
       " 'threeYearAverageReturn': None,\n",
       " 'lastSplitDate': 1661385600,\n",
       " 'lastSplitFactor': '3:1',\n",
       " 'legalType': None,\n",
       " 'lastDividendDate': None,\n",
       " 'morningStarOverallRating': None,\n",
       " 'earningsQuarterlyGrowth': 0.978,\n",
       " 'priceToSalesTrailing12Months': 13.2876005,\n",
       " 'dateShortInterest': 1660521600,\n",
       " 'pegRatio': None,\n",
       " 'ytdReturn': None,\n",
       " 'forwardPE': 17.879473,\n",
       " 'lastCapGain': None,\n",
       " 'shortPercentOfFloat': 0.0235,\n",
       " 'sharesShortPriorMonth': 70475676,\n",
       " 'impliedSharesOutstanding': 0,\n",
       " 'category': None,\n",
       " 'fiveYearAverageReturn': None,\n",
       " 'previousClose': 288.09,\n",
       " 'regularMarketOpen': 282.83,\n",
       " 'twoHundredDayAverage': 298.89212,\n",
       " 'trailingAnnualDividendYield': 0,\n",
       " 'payoutRatio': 0,\n",
       " 'volume24Hr': None,\n",
       " 'regularMarketDayHigh': 287.74,\n",
       " 'navPrice': None,\n",
       " 'averageDailyVolume10Day': 64238110,\n",
       " 'regularMarketPreviousClose': 288.09,\n",
       " 'fiftyDayAverage': 265.72153,\n",
       " 'trailingAnnualDividendRate': 0,\n",
       " 'open': 282.83,\n",
       " 'toCurrency': None,\n",
       " 'averageVolume10days': 64238110,\n",
       " 'expireDate': None,\n",
       " 'algorithm': None,\n",
       " 'dividendRate': None,\n",
       " 'exDividendDate': None,\n",
       " 'circulatingSupply': None,\n",
       " 'startDate': None,\n",
       " 'regularMarketDayLow': 280.71,\n",
       " 'currency': 'USD',\n",
       " 'trailingPE': 105.48889,\n",
       " 'regularMarketVolume': 40484313,\n",
       " 'lastMarket': None,\n",
       " 'maxSupply': None,\n",
       " 'openInterest': None,\n",
       " 'marketCap': 892474949632,\n",
       " 'volumeAllCurrencies': None,\n",
       " 'strikePrice': None,\n",
       " 'averageVolume': 87234156,\n",
       " 'dayLow': 280.71,\n",
       " 'ask': 284.87,\n",
       " 'askSize': 1800,\n",
       " 'volume': 40484313,\n",
       " 'fiftyTwoWeekHigh': 414.49667,\n",
       " 'fromCurrency': None,\n",
       " 'fiveYearAvgDividendYield': None,\n",
       " 'fiftyTwoWeekLow': 206.85667,\n",
       " 'bid': 284.89,\n",
       " 'tradeable': False,\n",
       " 'dividendYield': None,\n",
       " 'bidSize': 4000,\n",
       " 'dayHigh': 287.74,\n",
       " 'coinMarketCapLink': None,\n",
       " 'regularMarketPrice': 284.82,\n",
       " 'preMarketPrice': 282.87,\n",
       " 'logo_url': 'https://logo.clearbit.com/tesla.com',\n",
       " 'trailingPegRatio': 2.109}"
      ]
     },
     "execution_count": 7,
     "metadata": {},
     "output_type": "execute_result"
    }
   ],
   "source": [
    "stock_info"
   ]
  }
 ],
 "metadata": {
  "kernelspec": {
   "display_name": "Python 3.9.7 ('base')",
   "language": "python",
   "name": "python3"
  },
  "language_info": {
   "codemirror_mode": {
    "name": "ipython",
    "version": 3
   },
   "file_extension": ".py",
   "mimetype": "text/x-python",
   "name": "python",
   "nbconvert_exporter": "python",
   "pygments_lexer": "ipython3",
   "version": "3.9.7"
  },
  "orig_nbformat": 4,
  "vscode": {
   "interpreter": {
    "hash": "36e2581dfb10b7e3de3547be529c2e8e9e4d59798f578734b808d68ebdb931d0"
   }
  }
 },
 "nbformat": 4,
 "nbformat_minor": 2
}
