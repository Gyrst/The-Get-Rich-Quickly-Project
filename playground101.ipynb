{
 "cells": [
  {
   "cell_type": "markdown",
   "metadata": {},
   "source": [
    "# The Get Rich Quickly Project\n",
    "\n",
    "In the following I try to get familiarized with the financial markets libraries for python"
   ]
  },
  {
   "cell_type": "code",
   "execution_count": 2,
   "metadata": {},
   "outputs": [],
   "source": [
    "import pandas as pd\n",
    "import datetime\n",
    "import mplfinance as mpf\n",
    "import yfinance as yf\n",
    "import pandas_datareader.data as web\n",
    "import os\n",
    "import random\n",
    "import numpy as np\n",
    "import matplotlib.pyplot as plt\n",
    "from ipywidgets import interact, fixed, IntSlider"
   ]
  },
  {
   "cell_type": "markdown",
   "metadata": {},
   "source": [
    "### loading the tesla stock prices"
   ]
  },
  {
   "cell_type": "code",
   "execution_count": 3,
   "metadata": {},
   "outputs": [
    {
     "name": "stdout",
     "output_type": "stream",
     "text": [
      "market price  277.7\n",
      "previous close price  284.82\n"
     ]
    }
   ],
   "source": [
    "stock_info = yf.Ticker('TSLA').info\n",
    "# stock_info.keys() for other properties you can explore\n",
    "market_price = stock_info['regularMarketPrice']\n",
    "previous_close_price = stock_info['regularMarketPreviousClose']\n",
    "print('market price ', market_price)\n",
    "print('previous close price ', previous_close_price)\n"
   ]
  },
  {
   "cell_type": "code",
   "execution_count": 4,
   "metadata": {},
   "outputs": [],
   "source": [
    "df = pd.DataFrame([stock_info])"
   ]
  },
  {
   "cell_type": "code",
   "execution_count": 5,
   "metadata": {},
   "outputs": [
    {
     "data": {
      "text/html": [
       "<div>\n",
       "<style scoped>\n",
       "    .dataframe tbody tr th:only-of-type {\n",
       "        vertical-align: middle;\n",
       "    }\n",
       "\n",
       "    .dataframe tbody tr th {\n",
       "        vertical-align: top;\n",
       "    }\n",
       "\n",
       "    .dataframe thead th {\n",
       "        text-align: right;\n",
       "    }\n",
       "</style>\n",
       "<table border=\"1\" class=\"dataframe\">\n",
       "  <thead>\n",
       "    <tr style=\"text-align: right;\">\n",
       "      <th></th>\n",
       "      <th>zip</th>\n",
       "      <th>sector</th>\n",
       "      <th>fullTimeEmployees</th>\n",
       "      <th>longBusinessSummary</th>\n",
       "      <th>city</th>\n",
       "      <th>phone</th>\n",
       "      <th>state</th>\n",
       "      <th>country</th>\n",
       "      <th>companyOfficers</th>\n",
       "      <th>website</th>\n",
       "      <th>...</th>\n",
       "      <th>bid</th>\n",
       "      <th>tradeable</th>\n",
       "      <th>dividendYield</th>\n",
       "      <th>bidSize</th>\n",
       "      <th>dayHigh</th>\n",
       "      <th>coinMarketCapLink</th>\n",
       "      <th>regularMarketPrice</th>\n",
       "      <th>preMarketPrice</th>\n",
       "      <th>logo_url</th>\n",
       "      <th>trailingPegRatio</th>\n",
       "    </tr>\n",
       "  </thead>\n",
       "  <tbody>\n",
       "    <tr>\n",
       "      <th>0</th>\n",
       "      <td>78725</td>\n",
       "      <td>Consumer Cyclical</td>\n",
       "      <td>99290</td>\n",
       "      <td>Tesla, Inc. designs, develops, manufactures, l...</td>\n",
       "      <td>Austin</td>\n",
       "      <td>(512) 516-8177</td>\n",
       "      <td>TX</td>\n",
       "      <td>United States</td>\n",
       "      <td>[]</td>\n",
       "      <td>https://www.tesla.com</td>\n",
       "      <td>...</td>\n",
       "      <td>278.7</td>\n",
       "      <td>False</td>\n",
       "      <td>None</td>\n",
       "      <td>1800</td>\n",
       "      <td>288.48</td>\n",
       "      <td>None</td>\n",
       "      <td>277.7</td>\n",
       "      <td>280.29</td>\n",
       "      <td>https://logo.clearbit.com/tesla.com</td>\n",
       "      <td>2.0289</td>\n",
       "    </tr>\n",
       "  </tbody>\n",
       "</table>\n",
       "<p>1 rows × 154 columns</p>\n",
       "</div>"
      ],
      "text/plain": [
       "     zip             sector  fullTimeEmployees  \\\n",
       "0  78725  Consumer Cyclical              99290   \n",
       "\n",
       "                                 longBusinessSummary    city           phone  \\\n",
       "0  Tesla, Inc. designs, develops, manufactures, l...  Austin  (512) 516-8177   \n",
       "\n",
       "  state        country companyOfficers                website  ...    bid  \\\n",
       "0    TX  United States              []  https://www.tesla.com  ...  278.7   \n",
       "\n",
       "  tradeable dividendYield  bidSize  dayHigh  coinMarketCapLink  \\\n",
       "0     False          None     1800   288.48               None   \n",
       "\n",
       "   regularMarketPrice  preMarketPrice                             logo_url  \\\n",
       "0               277.7          280.29  https://logo.clearbit.com/tesla.com   \n",
       "\n",
       "   trailingPegRatio  \n",
       "0            2.0289  \n",
       "\n",
       "[1 rows x 154 columns]"
      ]
     },
     "execution_count": 5,
     "metadata": {},
     "output_type": "execute_result"
    }
   ],
   "source": [
    "df"
   ]
  },
  {
   "cell_type": "code",
   "execution_count": 6,
   "metadata": {},
   "outputs": [
    {
     "name": "stdout",
     "output_type": "stream",
     "text": [
      "[*********************100%***********************]  4 of 4 completed\n"
     ]
    }
   ],
   "source": [
    "### Getting temporal data using yfinance\n",
    "data = yf.download(\"AAPL GOOG AMZN MSFT\", start=\"2020-01-01\", end=\"2022-08-30\")\n"
   ]
  },
  {
   "cell_type": "code",
   "execution_count": 7,
   "metadata": {},
   "outputs": [],
   "source": [
    "#aapl = web.DataReader('AAPL.US', 'quandl','2020-01-01', '2022-01-01')"
   ]
  },
  {
   "cell_type": "code",
   "execution_count": 8,
   "metadata": {},
   "outputs": [
    {
     "data": {
      "text/plain": [
       "<AxesSubplot:xlabel='Date'>"
      ]
     },
     "execution_count": 8,
     "metadata": {},
     "output_type": "execute_result"
    },
    {
     "data": {
      "image/png": "[encoded data removed]",
      "text/plain": [
       "<Figure size 432x288 with 1 Axes>"
      ]
     },
     "metadata": {
      "needs_background": "light"
     },
     "output_type": "display_data"
    }
   ],
   "source": [
    "data.Close.plot()"
   ]
  },
  {
   "cell_type": "code",
   "execution_count": 9,
   "metadata": {},
   "outputs": [
    {
     "data": {
      "text/plain": [
       "<AxesSubplot:xlabel='Date'>"
      ]
     },
     "execution_count": 9,
     "metadata": {},
     "output_type": "execute_result"
    },
    {
     "data": {
      "image/png": "[encoded data removed]",
      "text/plain": [
       "<Figure size 432x288 with 1 Axes>"
      ]
     },
     "metadata": {
      "needs_background": "light"
     },
     "output_type": "display_data"
    }
   ],
   "source": [
    "#To Normalize the stocks for fair comparison one can divide by the start value\n",
    "returns = data.Close/data.Close.iloc[0]\n",
    "\n",
    "returns.plot()"
   ]
  },
  {
   "cell_type": "code",
   "execution_count": 10,
   "metadata": {},
   "outputs": [
    {
     "data": {
      "text/plain": [
       "AAPL     75.087502\n",
       "AMZN     94.900497\n",
       "GOOG     68.368500\n",
       "MSFT    160.619995\n",
       "Name: 2020-01-02 00:00:00, dtype: float64"
      ]
     },
     "execution_count": 10,
     "metadata": {},
     "output_type": "execute_result"
    }
   ],
   "source": [
    "data.Close.iloc[0] # when you divide by it own we see the relate price changes"
   ]
  },
  {
   "cell_type": "code",
   "execution_count": 11,
   "metadata": {},
   "outputs": [
    {
     "data": {
      "text/html": [
       "<div>\n",
       "<style scoped>\n",
       "    .dataframe tbody tr th:only-of-type {\n",
       "        vertical-align: middle;\n",
       "    }\n",
       "\n",
       "    .dataframe tbody tr th {\n",
       "        vertical-align: top;\n",
       "    }\n",
       "\n",
       "    .dataframe thead th {\n",
       "        text-align: right;\n",
       "    }\n",
       "</style>\n",
       "<table border=\"1\" class=\"dataframe\">\n",
       "  <thead>\n",
       "    <tr style=\"text-align: right;\">\n",
       "      <th></th>\n",
       "      <th>AAPL</th>\n",
       "      <th>AMZN</th>\n",
       "      <th>GOOG</th>\n",
       "      <th>MSFT</th>\n",
       "    </tr>\n",
       "    <tr>\n",
       "      <th>Date</th>\n",
       "      <th></th>\n",
       "      <th></th>\n",
       "      <th></th>\n",
       "      <th></th>\n",
       "    </tr>\n",
       "  </thead>\n",
       "  <tbody>\n",
       "    <tr>\n",
       "      <th>2020-01-02</th>\n",
       "      <td>1.000000</td>\n",
       "      <td>1.000000</td>\n",
       "      <td>1.000000</td>\n",
       "      <td>1.000000</td>\n",
       "    </tr>\n",
       "    <tr>\n",
       "      <th>2020-01-03</th>\n",
       "      <td>0.990278</td>\n",
       "      <td>0.987861</td>\n",
       "      <td>0.995093</td>\n",
       "      <td>0.987548</td>\n",
       "    </tr>\n",
       "    <tr>\n",
       "      <th>2020-01-06</th>\n",
       "      <td>0.998169</td>\n",
       "      <td>1.002566</td>\n",
       "      <td>1.019629</td>\n",
       "      <td>0.990101</td>\n",
       "    </tr>\n",
       "    <tr>\n",
       "      <th>2020-01-07</th>\n",
       "      <td>0.993474</td>\n",
       "      <td>1.004663</td>\n",
       "      <td>1.018993</td>\n",
       "      <td>0.981073</td>\n",
       "    </tr>\n",
       "    <tr>\n",
       "      <th>2020-01-08</th>\n",
       "      <td>1.009456</td>\n",
       "      <td>0.996818</td>\n",
       "      <td>1.027023</td>\n",
       "      <td>0.996700</td>\n",
       "    </tr>\n",
       "    <tr>\n",
       "      <th>...</th>\n",
       "      <td>...</td>\n",
       "      <td>...</td>\n",
       "      <td>...</td>\n",
       "      <td>...</td>\n",
       "    </tr>\n",
       "    <tr>\n",
       "      <th>2022-08-23</th>\n",
       "      <td>2.227135</td>\n",
       "      <td>1.408001</td>\n",
       "      <td>1.678697</td>\n",
       "      <td>1.721081</td>\n",
       "    </tr>\n",
       "    <tr>\n",
       "      <th>2022-08-24</th>\n",
       "      <td>2.231130</td>\n",
       "      <td>1.409898</td>\n",
       "      <td>1.677673</td>\n",
       "      <td>1.717034</td>\n",
       "    </tr>\n",
       "    <tr>\n",
       "      <th>2022-08-25</th>\n",
       "      <td>2.264425</td>\n",
       "      <td>1.446568</td>\n",
       "      <td>1.721553</td>\n",
       "      <td>1.736085</td>\n",
       "    </tr>\n",
       "    <tr>\n",
       "      <th>2022-08-26</th>\n",
       "      <td>2.179058</td>\n",
       "      <td>1.377759</td>\n",
       "      <td>1.627943</td>\n",
       "      <td>1.669095</td>\n",
       "    </tr>\n",
       "    <tr>\n",
       "      <th>2022-08-29</th>\n",
       "      <td>2.149226</td>\n",
       "      <td>1.367643</td>\n",
       "      <td>1.613901</td>\n",
       "      <td>1.651289</td>\n",
       "    </tr>\n",
       "  </tbody>\n",
       "</table>\n",
       "<p>670 rows × 4 columns</p>\n",
       "</div>"
      ],
      "text/plain": [
       "                AAPL      AMZN      GOOG      MSFT\n",
       "Date                                              \n",
       "2020-01-02  1.000000  1.000000  1.000000  1.000000\n",
       "2020-01-03  0.990278  0.987861  0.995093  0.987548\n",
       "2020-01-06  0.998169  1.002566  1.019629  0.990101\n",
       "2020-01-07  0.993474  1.004663  1.018993  0.981073\n",
       "2020-01-08  1.009456  0.996818  1.027023  0.996700\n",
       "...              ...       ...       ...       ...\n",
       "2022-08-23  2.227135  1.408001  1.678697  1.721081\n",
       "2022-08-24  2.231130  1.409898  1.677673  1.717034\n",
       "2022-08-25  2.264425  1.446568  1.721553  1.736085\n",
       "2022-08-26  2.179058  1.377759  1.627943  1.669095\n",
       "2022-08-29  2.149226  1.367643  1.613901  1.651289\n",
       "\n",
       "[670 rows x 4 columns]"
      ]
     },
     "execution_count": 11,
     "metadata": {},
     "output_type": "execute_result"
    }
   ],
   "source": [
    "returns"
   ]
  },
  {
   "cell_type": "code",
   "execution_count": 12,
   "metadata": {},
   "outputs": [],
   "source": [
    "#Creating a portfolio of the above stocks\n",
    "N = len(data.Close.transpose())\n",
    "returns['PORTFOLIO'] = returns.iloc[:,0:N].sum(axis=1) / N"
   ]
  },
  {
   "cell_type": "code",
   "execution_count": 13,
   "metadata": {},
   "outputs": [
    {
     "data": {
      "text/html": [
       "<div>\n",
       "<style scoped>\n",
       "    .dataframe tbody tr th:only-of-type {\n",
       "        vertical-align: middle;\n",
       "    }\n",
       "\n",
       "    .dataframe tbody tr th {\n",
       "        vertical-align: top;\n",
       "    }\n",
       "\n",
       "    .dataframe thead th {\n",
       "        text-align: right;\n",
       "    }\n",
       "</style>\n",
       "<table border=\"1\" class=\"dataframe\">\n",
       "  <thead>\n",
       "    <tr style=\"text-align: right;\">\n",
       "      <th></th>\n",
       "      <th>AAPL</th>\n",
       "      <th>AMZN</th>\n",
       "      <th>GOOG</th>\n",
       "      <th>MSFT</th>\n",
       "      <th>PORTFOLIO</th>\n",
       "    </tr>\n",
       "    <tr>\n",
       "      <th>Date</th>\n",
       "      <th></th>\n",
       "      <th></th>\n",
       "      <th></th>\n",
       "      <th></th>\n",
       "      <th></th>\n",
       "    </tr>\n",
       "  </thead>\n",
       "  <tbody>\n",
       "    <tr>\n",
       "      <th>2020-01-02</th>\n",
       "      <td>1.000000</td>\n",
       "      <td>1.000000</td>\n",
       "      <td>1.000000</td>\n",
       "      <td>1.000000</td>\n",
       "      <td>1.000000</td>\n",
       "    </tr>\n",
       "    <tr>\n",
       "      <th>2020-01-03</th>\n",
       "      <td>0.990278</td>\n",
       "      <td>0.987861</td>\n",
       "      <td>0.995093</td>\n",
       "      <td>0.987548</td>\n",
       "      <td>0.990195</td>\n",
       "    </tr>\n",
       "  </tbody>\n",
       "</table>\n",
       "</div>"
      ],
      "text/plain": [
       "                AAPL      AMZN      GOOG      MSFT  PORTFOLIO\n",
       "Date                                                         \n",
       "2020-01-02  1.000000  1.000000  1.000000  1.000000   1.000000\n",
       "2020-01-03  0.990278  0.987861  0.995093  0.987548   0.990195"
      ]
     },
     "execution_count": 13,
     "metadata": {},
     "output_type": "execute_result"
    }
   ],
   "source": [
    "returns.head(2)\n"
   ]
  },
  {
   "cell_type": "code",
   "execution_count": 14,
   "metadata": {},
   "outputs": [
    {
     "data": {
      "text/plain": [
       "AAPL         0.366435\n",
       "AMZN         0.380414\n",
       "GOOG         0.336231\n",
       "MSFT         0.344546\n",
       "PORTFOLIO    0.316881\n",
       "dtype: float64"
      ]
     },
     "execution_count": 14,
     "metadata": {},
     "output_type": "execute_result"
    }
   ],
   "source": [
    "daily_pct_change = np.log(returns.pct_change() + 1)\n",
    "vols = daily_pct_change.std() * np.sqrt(252)\n",
    "vols"
   ]
  },
  {
   "cell_type": "code",
   "execution_count": null,
   "metadata": {},
   "outputs": [],
   "source": []
  }
 ],
 "metadata": {
  "kernelspec": {
   "display_name": "Python 3.9.7 ('base')",
   "language": "python",
   "name": "python3"
  },
  "language_info": {
   "codemirror_mode": {
    "name": "ipython",
    "version": 3
   },
   "file_extension": ".py",
   "mimetype": "text/x-python",
   "name": "python",
   "nbconvert_exporter": "python",
   "pygments_lexer": "ipython3",
   "version": "3.9.7"
  },
  "orig_nbformat": 4,
  "vscode": {
   "interpreter": {
    "hash": "36e2581dfb10b7e3de3547be529c2e8e9e4d59798f578734b808d68ebdb931d0"
   }
  }
 },
 "nbformat": 4,
 "nbformat_minor": 2
}
